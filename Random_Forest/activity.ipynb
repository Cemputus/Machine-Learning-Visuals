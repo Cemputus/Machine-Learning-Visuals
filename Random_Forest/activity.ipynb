{
 "cells": [
  {
   "cell_type": "markdown",
   "metadata": {},
   "source": [
    "## Random Forest Feature Importance Analysis for Customer Churn Prediction\n",
    "\n",
    "#### Question\n",
    " You are working as a data scientist at a telecommunications company, and\n",
    " your task is to predict customer churn (whether a customer will leave the\n",
    " service) using various customer data.The company wants to understand\n",
    " which features (e.g., age, monthly charges, contract type) are the most\n",
    " important in predicting churn.Use a Random Forest Classifier to fit the\n",
    " customer data and create a feature importance plot that visually shows the\n",
    " most influential features in predicting customer churn.To help you get\n",
    " started, you are provided with a synthetic dataset that contains features such\n",
    " as customer age, monthly charges, contract type, and churn (0 for staying, 1\n",
    " for leaving).Generate the dataset and perform the analysis."
   ]
  },
  {
   "cell_type": "markdown",
   "metadata": {},
   "source": [
    "#### 【Trivia】\n",
    "Random Forest is less prone to overfitting compared to decision trees\n",
    " because it averages multiple decision trees to make predictions. The\n",
    "concept of bagging (bootstrap aggregating) helps in reducing variance,\n",
    " leading to more stable and reliable models."
   ]
  },
  {
   "cell_type": "markdown",
   "metadata": {},
   "source": [
    "#### Step 1: Data Generation"
   ]
  },
  {
   "cell_type": "code",
   "execution_count": 1,
   "metadata": {},
   "outputs": [],
   "source": [
    "import numpy as np \n",
    "import pandas as pd \n",
    "np.random.seed(42)  \n",
    "#Create synthetic customer data \n",
    "n_customers = 1000 \n",
    "age = np.random.randint(18, 70, n_customers) \n",
    "monthly_charges = np.random.uniform(20, 120, n_customers) \n",
    "contract_type = np.random.choice(['Month-to-month', 'One year', 'Two year'], n_customers) \n",
    "churn = np.random.choice([0, 1], n_customers, p=[0.8, 0.2]) \n",
    "#Convert contract type to numerical \n",
    "contract_type_num = [0 if c == 'Month-to-month' else 1 if c == 'One year'\n",
    " else 2 for c in contract_type] \n",
    "#Create DataFrame  \n",
    "data = pd.DataFrame({'Age': age, 'MonthlyCharges': monthly_charges,\n",
    " 'ContractType': contract_type_num, 'Churn': churn})"
   ]
  },
  {
   "cell_type": "markdown",
   "metadata": {},
   "source": [
    "#### Solution"
   ]
  },
  {
   "cell_type": "code",
   "execution_count": 2,
   "metadata": {},
   "outputs": [
    {
     "data": {
      "image/png": "[encoded data removed]",
      "text/plain": [
       "<Figure size 800x600 with 1 Axes>"
      ]
     },
     "metadata": {},
     "output_type": "display_data"
    }
   ],
   "source": [
    "import numpy as np \n",
    "import pandas as pd \n",
    "from sklearn.ensemble import RandomForestClassifier \n",
    "from sklearn.model_selection import train_test_split \n",
    "import matplotlib.pyplot as plt \n",
    "\n",
    "np.random.seed(42)  \n",
    "#Generate synthetic customer data \n",
    "n_customers = 1000 \n",
    "age = np.random.randint(18, 70, n_customers) \n",
    "monthly_charges = np.random.uniform(20, 120, n_customers) \n",
    "contract_type = np.random.choice(['Month-to-month', 'One year', 'Two year'], n_customers) \n",
    "churn = np.random.choice([0, 1], n_customers, p=[0.8, 0.2]) \n",
    "contract_type_num = [0 if c == 'Month-to-month' else 1 if c == 'One year'\n",
    " else 2 for c in contract_type] \n",
    "data = pd.DataFrame({'Age': age, 'MonthlyCharges': monthly_charges, 'ContractType': contract_type_num, 'Churn': churn}) \n",
    "\n",
    "\n",
    "#Define features and target \n",
    "X = data[['Age', 'MonthlyCharges', 'ContractType']] \n",
    "y = data['Churn'] \n",
    "\n",
    "#Split the data into training and testing sets \n",
    "X_train, X_test, y_train, y_test = train_test_split(X, y, test_size=0.3, random_state=42) \n",
    "\n",
    "#Train a Random Forest Classifier \n",
    "clf = RandomForestClassifier(n_estimators=100, random_state=42) \n",
    "clf.fit(X_train, y_train)  \n",
    "\n",
    "#Get feature importances \n",
    "importances = clf.feature_importances_ \n",
    "features = X.columns \n",
    "\n",
    "\n",
    "#Plot feature importances \n",
    "plt.figure(figsize=(8, 6))  \n",
    "plt.barh(features, importances, color='skyblue') \n",
    "plt.xlabel('Feature Importance')  \n",
    "plt.title('Random Forest Feature Importance for Customer Churn Prediction') \n",
    "plt.show()"
   ]
  },
  {
   "cell_type": "markdown",
   "metadata": {},
   "source": [
    " In this activity, we use a Random Forest Classifier to identify the most\n",
    " important features that influence customer churn.\n",
    " - We begin by creating a synthetic dataset that simulates customer data.\n",
    " The dataset includes customer age, monthly charges, and contract type\n",
    " (converted to numeric values). The target variable is whether the customer\n",
    " has churned or not (binary classification).\n",
    " - Once the dataset is ready, the features (X) and the target variable (y) are\n",
    " separated. We then split the data into training and testing sets using\n",
    " train_test_split, reserving 30% of the data for testing the model's accuracy.\n",
    " Next, we train a Random Forest Classifier. Random Forest is an ensemble\n",
    " machine learning algorithm that builds multiple decision trees and merges\n",
    " their outputs for more accurate predictions. After fitting the model to the\n",
    " training data, we extract the feature importances.\n",
    " - Feature importance indicates how useful or valuable each feature is in\n",
    " constructing the decision trees within the random forest. In this case, it\n",
    " helps us understand which features contribute the most to predicting\n",
    " customer churn.\n",
    "  - The feature importances are then plotted as a horizontal bar\n",
    " chart, making it easy to visualize and interpret which features play the most\n",
    " significant role.\n",
    " - This activity helps reinforce the use of Random Forest for classification\n",
    " problems and the importance of visualizing feature importance to gain\n",
    " insights from the model."
   ]
  }
 ],
 "metadata": {
  "kernelspec": {
   "display_name": "Python 3",
   "language": "python",
   "name": "python3"
  },
  "language_info": {
   "codemirror_mode": {
    "name": "ipython",
    "version": 3
   },
   "file_extension": ".py",
   "mimetype": "text/x-python",
   "name": "python",
   "nbconvert_exporter": "python",
   "pygments_lexer": "ipython3",
   "version": "3.13.0"
  }
 },
 "nbformat": 4,
 "nbformat_minor": 2
}
